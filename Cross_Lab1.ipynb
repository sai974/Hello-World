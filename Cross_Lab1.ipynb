{
  "nbformat": 4,
  "nbformat_minor": 0,
  "metadata": {
    "colab": {
      "provenance": [],
      "gpuType": "T4",
      "authorship_tag": "ABX9TyPaSAQC5wHoxrVTVEYK+xbY",
      "include_colab_link": true
    },
    "kernelspec": {
      "name": "python3",
      "display_name": "Python 3"
    },
    "language_info": {
      "name": "python"
    },
    "accelerator": "GPU"
  },
  "cells": [
    {
      "cell_type": "markdown",
      "metadata": {
        "id": "view-in-github",
        "colab_type": "text"
      },
      "source": [
        "<a href=\"https://colab.research.google.com/github/sai974/Hello-World/blob/master/Cross_Lab1.ipynb\" target=\"_parent\"><img src=\"https://colab.research.google.com/assets/colab-badge.svg\" alt=\"Open In Colab\"/></a>"
      ]
    },
    {
      "cell_type": "markdown",
      "source": [
        "# Cross Layer ML\n",
        "## Lab1"
      ],
      "metadata": {
        "id": "A_ZlrI4vbuP0"
      }
    },
    {
      "cell_type": "code",
      "execution_count": null,
      "metadata": {
        "id": "VAWNlKGua-vc"
      },
      "outputs": [],
      "source": [
        "import torch\n",
        "import torch.nn as nn\n",
        "import torchvision.datasets as dsets\n",
        "import torchvision.transforms as transforms\n",
        "from torch.autograd import Variable\n",
        "import easydict"
      ]
    },
    {
      "cell_type": "code",
      "source": [
        "# easy parameters\n",
        "args = easydict.EasyDict({\"batch_size\": 100,\n",
        "                          \"epochs\" : 10,\n",
        "                          \"lr\" : 0.001,})\n"
      ],
      "metadata": {
        "id": "tcztsp3Wbplc"
      },
      "execution_count": null,
      "outputs": []
    },
    {
      "cell_type": "code",
      "source": [
        "# hyper parameters\n",
        "input_size = 784\n",
        "num_classes = 10\n",
        "num_epochs = args.epochs\n",
        "learning_rate = args.lr\n",
        "batch_size = args.batch_size\n"
      ],
      "metadata": {
        "id": "vnkHEa2qc5j0"
      },
      "execution_count": null,
      "outputs": []
    },
    {
      "cell_type": "code",
      "source": [
        "# MNIST dataset\n",
        "# Understand the MNIST functionand alll the parameters\n",
        "train_dataset = dsets.MNIST(root = './data', train = True, transform = transforms.ToTensor(), download = True)\n",
        "test_dataset = dsets.MNIST(root = './data', train = False, transform = transforms.ToTensor())"
      ],
      "metadata": {
        "id": "LqcQaJ5rdhBL"
      },
      "execution_count": null,
      "outputs": []
    },
    {
      "cell_type": "code",
      "source": [
        "\n",
        "# Dataset Loader\n",
        "train_loader = torch.utils.data.DataLoader(dataset = train_dataset, batch_size = batch_size, shuffle = True)\n",
        "test_loader = torch.utils.data.DataLoader(dataset = test_dataset, batch_size = batch_size, shuffle = False)\n"
      ],
      "metadata": {
        "id": "bDg1Jl0NefYH"
      },
      "execution_count": null,
      "outputs": []
    },
    {
      "cell_type": "code",
      "source": [
        "#Model\n",
        "# what is this ??\n",
        "class LogisticRegression(nn.Module):\n",
        "  def __init__(self, input_size, num_classes):\n",
        "    super(LogisticRegression, self).__init__()\n",
        "    self.linear = nn.Linear(input_size, num_classes)\n",
        "  def forward(self, x):\n",
        "    out = self.linear(x)\n",
        "    return out\n"
      ],
      "metadata": {
        "id": "slO5w5Pk_xgF"
      },
      "execution_count": null,
      "outputs": []
    },
    {
      "cell_type": "code",
      "source": [
        "model = LogisticRegression(input_size, num_classes)"
      ],
      "metadata": {
        "id": "8Qg8lOg9he4v"
      },
      "execution_count": null,
      "outputs": []
    },
    {
      "cell_type": "code",
      "source": [
        "#Loss and Optimiser\n",
        "# Softmax is internally computed\n",
        "# Set parameters to be updated\n",
        "## what is this ??\n",
        "criterion = nn.CrossEntropyLoss()\n",
        "optimiser = torch.optim.SGD(model.parameters(), lr = learning_rate)\n",
        "\n"
      ],
      "metadata": {
        "id": "9eZrCTByhx1c"
      },
      "execution_count": null,
      "outputs": []
    },
    {
      "cell_type": "code",
      "source": [
        "print(type(train_loader))\n",
        "print(type(test_loader))\n"
      ],
      "metadata": {
        "colab": {
          "base_uri": "https://localhost:8080/"
        },
        "id": "8Is1uXkbp9mG",
        "outputId": "5e9763c3-b68c-4e24-bdcc-fd7a5fce33a4"
      },
      "execution_count": null,
      "outputs": [
        {
          "output_type": "stream",
          "name": "stdout",
          "text": [
            "<class 'torch.utils.data.dataloader.DataLoader'>\n",
            "<class 'torch.utils.data.dataloader.DataLoader'>\n"
          ]
        }
      ]
    },
    {
      "cell_type": "code",
      "source": [
        "\n",
        "\n",
        "# Get cpu, gpu or mps device for training.\n",
        "device = (\n",
        "    \"cuda\"\n",
        "    if torch.cuda.is_available()\n",
        "    else \"mps\"\n",
        "    if torch.backends.mps.is_available()\n",
        "    else \"cpu\"\n",
        ")\n",
        "print(f\"Using {device} device\")\n",
        "\n"
      ],
      "metadata": {
        "colab": {
          "base_uri": "https://localhost:8080/"
        },
        "id": "kwXekmTpuiEx",
        "outputId": "fb87adb8-ff35-44b8-a193-33bf4c53a96b"
      },
      "execution_count": null,
      "outputs": [
        {
          "output_type": "stream",
          "name": "stdout",
          "text": [
            "Using cuda device\n"
          ]
        }
      ]
    },
    {
      "cell_type": "code",
      "source": [
        "# Training the model\n",
        "\n",
        "## what is ths ??\n",
        "for epoch in range(num_epochs):\n",
        "  for i, (images, labels) in enumerate(train_loader):\n",
        "      images = Variable(images.view(-1, 28*28))\n",
        "      labels = Variable(labels)\n",
        "\n",
        "      # Forward + Backward + Optimise\n",
        "      optimiser.zero_grad()\n",
        "      outputs = model(images)\n",
        "\n",
        "      loss = criterion(outputs, labels)\n",
        "      # 1\n",
        "\n",
        "      sum = 0\n",
        "      for p in model.parameters:\n",
        "        sum = sum +  numpy.abs(p)\n",
        "\n",
        "      breakpoint()\n",
        "      loss = loss.item\n",
        "      loss.backward()\n",
        "      # 2\n",
        "      optimiser.step()\n",
        "      # 3\n",
        "\n",
        "      if ((i + 1) % 100 == 0) :\n",
        "        print(\"Epoch: [%d/%d], Step: [%d/%d], Loss: %.4f\" % (epoch + 1, num_epochs, i + 1, len(train_dataset) // batch_size, loss.data.item()))"
      ],
      "metadata": {
        "colab": {
          "base_uri": "https://localhost:8080/",
          "height": 251
        },
        "id": "RJ-ugFVmnD5t",
        "outputId": "9be60c5f-f85c-45c0-bca2-20f6fe4992f9"
      },
      "execution_count": null,
      "outputs": [
        {
          "output_type": "error",
          "ename": "TypeError",
          "evalue": "ignored",
          "traceback": [
            "\u001b[0;31m---------------------------------------------------------------------------\u001b[0m",
            "\u001b[0;31mTypeError\u001b[0m                                 Traceback (most recent call last)",
            "\u001b[0;32m<ipython-input-48-5f1c9c48a386>\u001b[0m in \u001b[0;36m<cell line: 4>\u001b[0;34m()\u001b[0m\n\u001b[1;32m     15\u001b[0m \u001b[0;34m\u001b[0m\u001b[0m\n\u001b[1;32m     16\u001b[0m       \u001b[0msum\u001b[0m \u001b[0;34m=\u001b[0m \u001b[0;36m0\u001b[0m\u001b[0;34m\u001b[0m\u001b[0;34m\u001b[0m\u001b[0m\n\u001b[0;32m---> 17\u001b[0;31m       \u001b[0;32mfor\u001b[0m \u001b[0mp\u001b[0m \u001b[0;32min\u001b[0m \u001b[0mmodel\u001b[0m\u001b[0;34m.\u001b[0m\u001b[0mparameters\u001b[0m\u001b[0;34m:\u001b[0m\u001b[0;34m\u001b[0m\u001b[0;34m\u001b[0m\u001b[0m\n\u001b[0m\u001b[1;32m     18\u001b[0m         \u001b[0msum\u001b[0m \u001b[0;34m=\u001b[0m \u001b[0msum\u001b[0m \u001b[0;34m+\u001b[0m  \u001b[0mnumpy\u001b[0m\u001b[0;34m.\u001b[0m\u001b[0mabs\u001b[0m\u001b[0;34m(\u001b[0m\u001b[0mp\u001b[0m\u001b[0;34m)\u001b[0m\u001b[0;34m\u001b[0m\u001b[0;34m\u001b[0m\u001b[0m\n\u001b[1;32m     19\u001b[0m \u001b[0;34m\u001b[0m\u001b[0m\n",
            "\u001b[0;31mTypeError\u001b[0m: 'method' object is not iterable"
          ]
        }
      ]
    },
    {
      "cell_type": "code",
      "source": [
        "# Test the model\n",
        "correct = 0\n",
        "total = 0\n",
        "\n",
        "for (images, labels) in test_loader:\n",
        "  images = Variable(images.view(-1, 28*28))\n",
        "  outputs = model(images)\n",
        "  _, predicted = torch.max(outputs.data, 1)\n",
        "  total += labels.size(0)\n",
        "  correct += (predicted == labels).sum()\n",
        "\n",
        "print('Accuracy of the model on the 10000 test images: % d %%' % (100 * correct / total))"
      ],
      "metadata": {
        "id": "tJxH0hIerbQj",
        "colab": {
          "base_uri": "https://localhost:8080/"
        },
        "outputId": "ec92bbf4-b959-410a-fede-98324097b46a"
      },
      "execution_count": null,
      "outputs": [
        {
          "output_type": "stream",
          "name": "stdout",
          "text": [
            "Accuracy of the model on the 10000 test images:  85 %\n"
          ]
        }
      ]
    },
    {
      "cell_type": "code",
      "source": [
        "## how to see whats in the dataloader ,\n",
        "# visulaise the data input ,\n",
        "# visulase the results\n",
        "#\n"
      ],
      "metadata": {
        "id": "nL5qIlTS0tXo"
      },
      "execution_count": null,
      "outputs": []
    },
    {
      "cell_type": "code",
      "source": [],
      "metadata": {
        "id": "6p6QqgRO5e2b"
      },
      "execution_count": null,
      "outputs": []
    }
  ]
}